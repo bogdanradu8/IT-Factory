{
 "cells": [
  {
   "cell_type": "markdown",
   "id": "f95aac9d",
   "metadata": {},
   "source": [
    "### TEMA 4 "
   ]
  },
  {
   "cell_type": "code",
   "execution_count": 48,
   "id": "f4d65c3a",
   "metadata": {},
   "outputs": [
    {
     "name": "stdout",
     "output_type": "stream",
     "text": [
      "Masina mea preferata este: Audi\n",
      "Masina mea preferata este: Volvo\n",
      "Masina mea preferata este: BMW\n",
      "Masina mea preferata este: Mercedes\n",
      "Masina mea preferata este: Aston Martin\n",
      "Masina mea preferata este: Lastun\n",
      "Masina mea preferata este: Fiat\n",
      "Masina mea preferata este: Trabant\n",
      "Masina mea preferata este: Opel\n"
     ]
    }
   ],
   "source": [
    "# 1.\n",
    "# Avand lista \n",
    "# masini = ['Audi', 'Volvo', 'BMW', 'Mercedes', 'Aston Martin', 'Lastun', 'Fiat', 'Trabant', 'Opel'] \n",
    "\n",
    "# Folositi un for ca sa iterati prin toata lista cu ajutorul indexilor si sa afisati\n",
    "# Masina mea preferata este x\n",
    "# Faceti acelasi lucru cu un for each\n",
    "# Faceti acelasi lucru cu un while\n",
    "\n",
    "masini = ['Audi', 'Volvo', 'BMW', 'Mercedes', 'Aston Martin', 'Lastun', 'Fiat', 'Trabant', 'Opel']\n",
    "\n",
    "for i in range(len(masini)):\n",
    "  print(f'Masina mea preferata este: {masini[i]}')"
   ]
  },
  {
   "cell_type": "code",
   "execution_count": 49,
   "id": "105b9122",
   "metadata": {},
   "outputs": [
    {
     "name": "stdout",
     "output_type": "stream",
     "text": [
      "Masina mea preferata este: Audi\n",
      "Masina mea preferata este: Volvo\n",
      "Masina mea preferata este: BMW\n",
      "Masina mea preferata este: Mercedes\n",
      "Masina mea preferata este: Aston Martin\n",
      "Masina mea preferata este: Lastun\n",
      "Masina mea preferata este: Fiat\n",
      "Masina mea preferata este: Trabant\n",
      "Masina mea preferata este: Opel\n"
     ]
    }
   ],
   "source": [
    "for x in masini: \n",
    "    print(f'Masina mea preferata este: {x}')  "
   ]
  },
  {
   "cell_type": "code",
   "execution_count": 319,
   "id": "31e94044",
   "metadata": {},
   "outputs": [
    {
     "name": "stdout",
     "output_type": "stream",
     "text": [
      "Masina mea preferata este: Audi\n",
      "Masina mea preferata este: Volvo\n",
      "Masina mea preferata este: BMW\n",
      "Masina mea preferata este: Mercedes\n",
      "Masina mea preferata este: Aston Martin\n",
      "Masina mea preferata este: Lastun\n",
      "Masina mea preferata este: Fiat\n",
      "Masina mea preferata este: Trabant\n",
      "Masina mea preferata este: Opel\n"
     ]
    }
   ],
   "source": [
    "lungime = len(masini)\n",
    "i = 0\n",
    "   \n",
    "while i < lungime:\n",
    "    print(f'Masina mea preferata este: {masini[i]}')\n",
    "    i += 1"
   ]
  },
  {
   "cell_type": "code",
   "execution_count": 325,
   "id": "2b828eb6",
   "metadata": {},
   "outputs": [
    {
     "name": "stdout",
     "output_type": "stream",
     "text": [
      "V1: \n",
      "\n",
      "aUDi\n",
      "vOLVo\n",
      "bMw\n",
      "mERCEDEs\n",
      "aSTON MARTIn\n",
      "lASTUn\n",
      "fIAt\n",
      "tRABANt\n",
      "oPEl\n",
      "\n",
      "V2: \n",
      "\n",
      "['audi', 'VOLVO', 'BMW', 'MERCEDES', 'ASTON MARTIN', 'LASTUN', 'FIAT', 'TRABANT', 'opel']\n"
     ]
    }
   ],
   "source": [
    "# 2.\n",
    "# Aceeasi lista\n",
    "# Folositi un for in for\n",
    "#    Modificati elementele din lista astfel incat sa fie scrie cu majuscule, exceptand primul si ultimul (v1 - caracter, v2 - element)\n",
    "# Printati varianta finala a listei\n",
    "# Incercati sa rezolvati atat v1 => output: ['aUDi', 'vOLVo', 'bMw', 'mERCEDEs', 'aSTON MARTIn', 'lASTUn', 'fIAt', 'tRABANt', 'oPEl']\n",
    "# Cat si v2 => output: ['audi', 'VOLVO', 'BMW', 'MERCEDES', 'ASTON MARTIN', 'LASTUN', 'FIAT', 'TRABANT', 'opel']\n",
    "\n",
    "masini = ['Audi', 'Volvo', 'BMW', 'Mercedes', 'Aston Martin', 'Lastun', 'Fiat', 'Trabant', 'Opel']\n",
    "\n",
    "v1 = []\n",
    "print('V1: \\n')\n",
    "for item in masini:\n",
    "    item = item[0:1].lower() + item[1:len(item)-1].upper() + item [len(item)-1:len(item)].lower()\n",
    "    print(item)\n",
    "   \n",
    "    \n",
    "print('\\nV2: \\n')\n",
    "for y in masini:\n",
    "    y = [y.lower() for y in masini[0::-1]] + [y.upper() for y in masini[1:-1]] + [y.lower() for y in masini[-1:(len(masini))]]\n",
    "print(y)\n",
    "\n",
    "# "
   ]
  },
  {
   "cell_type": "code",
   "execution_count": 22,
   "id": "73f71f13",
   "metadata": {},
   "outputs": [
    {
     "name": "stdout",
     "output_type": "stream",
     "text": [
      "Am gasit masina Audi. Mai cautam..\n",
      "Am gasit masina Volvo. Mai cautam..\n",
      "Am gasit masina BMW. Mai cautam..\n",
      "am gasit masina dorita de dvs\n"
     ]
    }
   ],
   "source": [
    "# 3. \n",
    "# Aceeasi lista, \n",
    "# Vine un cumparator care doreste sa cumpere un Mercedes\n",
    "# Iterati prin ea cu for\n",
    "# Daca masina e mercedes (if)\n",
    "#    Printam ‘am gasit masina dorita de dvs’\n",
    "#    Iesim din ciclu folosind un cuvant cheie care face acest lucru\n",
    "# Altfel:   \n",
    "#    Printam Am gasit masina X. Mai cautam\t\n",
    "\n",
    "masini = ['Audi', 'Volvo', 'BMW', 'Mercedes', 'Aston Martin', 'Lastun', 'Fiat', 'Trabant', 'Opel']\n",
    "\n",
    "for x in masini:\n",
    "    if x == 'Mercedes':\n",
    "        print('am gasit masina dorita de dvs')\n",
    "        break\n",
    "    else:\n",
    "        print(f'Am gasit masina {x}. Mai cautam..')"
   ]
  },
  {
   "cell_type": "code",
   "execution_count": 76,
   "id": "26479889",
   "metadata": {},
   "outputs": [
    {
     "name": "stdout",
     "output_type": "stream",
     "text": [
      "S-ar putea sa va placa masina Audi\n",
      "S-ar putea sa va placa masina Volvo\n",
      "S-ar putea sa va placa masina BMW\n",
      "S-ar putea sa va placa masina Mercedes\n",
      "S-ar putea sa va placa masina Aston Martin\n",
      "S-ar putea sa va placa masina Fiat\n",
      "S-ar putea sa va placa masina Opel\n"
     ]
    }
   ],
   "source": [
    "# 4.\n",
    "# Aceasi lista\n",
    "# Vine un cumparator bogat dar indecis. Ii vom prezenta toate masinile cu exceptia Trabant si Lastun. \n",
    "# Daca masina e Trabant sau Lastun\n",
    "#    Folositi un cuvant cheie care sa dea skip la ce urmeaza\n",
    "# Printati S-ar putea sa va placa masina x\n",
    "\n",
    "masini = ['Audi', 'Volvo', 'BMW', 'Mercedes', 'Aston Martin', 'Lastun', 'Fiat', 'Trabant', 'Opel']\n",
    "\n",
    "for x in masini:\n",
    "    if x == 'Lastun':\n",
    "        continue\n",
    "    if x == 'Trabant':\n",
    "        continue\n",
    "    print(f'S-ar putea sa va placa masina {x}')"
   ]
  },
  {
   "cell_type": "code",
   "execution_count": 6,
   "id": "78a58d78",
   "metadata": {},
   "outputs": [
    {
     "name": "stdout",
     "output_type": "stream",
     "text": [
      "['Audi', 'Volvo', 'BMW', 'Mercedes', 'Aston Martin', 'Fiat', 'Opel', 'Tesla']\n",
      "['Lastun', 'Trabant']\n"
     ]
    }
   ],
   "source": [
    "# 5. \n",
    "# Modernizati parcul de masini\n",
    "# Creati o lista goala, masini_vechi\n",
    "# Iterati prin masini\n",
    "# Cand gasiti Lastun sau Trabant:\n",
    "# Salvati aceste masini in masini_vechi\n",
    "# Suprascrieti-le cu ‘Tesla’ (in lista initiala de masini)\n",
    "# Printati Modele vechi: x\n",
    "# Modele noi: x\n",
    "\n",
    "masini = ['Audi', 'Volvo', 'BMW', 'Mercedes', 'Aston Martin', 'Lastun', 'Fiat', 'Trabant', 'Opel']\n",
    "\n",
    "masini_vechi = []\n",
    "\n",
    "for x in masini:\n",
    "    if x in ('Trabant', 'Lastun'):\n",
    "        masini_vechi.append(x)\n",
    "        masini.remove(x)\n",
    "        if 'Tesla' not in masini:\n",
    "            masini.append('Tesla')\n",
    "        \n",
    "print(masini)\n",
    "print(masini_vechi)"
   ]
  },
  {
   "cell_type": "code",
   "execution_count": 5,
   "id": "a449dc2a",
   "metadata": {},
   "outputs": [
    {
     "name": "stdout",
     "output_type": "stream",
     "text": [
      "['Audi', 'Volvo', 'BMW', 'Mercedes', 'Aston Martin', 'Tesla', 'Fiat', 'Tesla', 'Opel']\n"
     ]
    }
   ],
   "source": [
    "masini = ['Audi', 'Volvo', 'BMW', 'Mercedes', 'Aston Martin', 'Lastun', 'Fiat', 'Trabant', 'Opel']\n",
    "\n",
    "masini_vechi = []\n",
    "\n",
    "for x in range(len(masini)):\n",
    "    if masini[x] in ('Trabant', 'Lastun'):\n",
    "        masini_vechi.append(masini[x])\n",
    "        masini[x] = 'Tesla'\n",
    "\n",
    "print(masini)"
   ]
  },
  {
   "cell_type": "code",
   "execution_count": 163,
   "id": "d68928a9",
   "metadata": {},
   "outputs": [
    {
     "name": "stdout",
     "output_type": "stream",
     "text": [
      "Pentru un buget de sub 15000 euro puteti alege masina:\n",
      " Dacia cu pretul: 6800 euro\n",
      "\n",
      "Pentru un buget de sub 15000 euro puteti alege masina:\n",
      " Lastun cu pretul: 500 euro\n",
      "\n",
      "Pentru un buget de sub 15000 euro puteti alege masina:\n",
      " Opel cu pretul: 1100 euro\n",
      "\n"
     ]
    }
   ],
   "source": [
    "# 6. \n",
    "# Avand dict\n",
    "# pret_masini = {\n",
    "#     'Dacia': 6800,\n",
    "#     'Lastun': 500,\n",
    "#     'Opel': 1100,\n",
    "#     'Audi': 19000,\n",
    "#     'BMW': 23000\n",
    "# }\n",
    "# Vine un client cu un buget de 15000 euro\n",
    "# Prezentati doar masinile care se incadreaza in acest buget\n",
    "# Iterati prin dict.items() si accesati masina si pretul\n",
    "# Printati Pentru un buget de sub 15000 euro puteti alege masina x\n",
    "# Iterati prin lista\n",
    "\n",
    "pret_masini = {\n",
    "    'Dacia': 6800,\n",
    "    'Lastun': 500,\n",
    "    'Opel': 1100,\n",
    "    'Audi': 19000,\n",
    "    'BMW': 23000\n",
    "}\n",
    "\n",
    "buget = 15000\n",
    "\n",
    "for x, y in pret_masini.items():\n",
    "    if y <= buget:\n",
    "        print(f'Pentru un buget de sub {buget} euro puteti alege masina:\\n {x} cu pretul: {y} euro\\n')        "
   ]
  },
  {
   "cell_type": "code",
   "execution_count": 161,
   "id": "f1014941",
   "metadata": {},
   "outputs": [
    {
     "name": "stdout",
     "output_type": "stream",
     "text": [
      "Numarul 3 apare de: 4 ori\n"
     ]
    }
   ],
   "source": [
    "# 7.\n",
    "# Avand lista\n",
    "# numere = [5, 7, 3, 9, 3, 3, 1, 0, -4, 3]\n",
    "# Iterati prin ea\n",
    "# Afisati de cate ori apare 3\n",
    "# (nu aveti voie sa folositi count)\n",
    "\n",
    "numere = [5, 7, 3, 9, 3, 3, 1, 0, -4, 3]\n",
    "\n",
    "y = 0\n",
    "for x in numere:    \n",
    "    if x == 3:       \n",
    "        y += 1\n",
    "    \n",
    "print(f'Numarul 3 apare de: {y} ori')"
   ]
  },
  {
   "cell_type": "code",
   "execution_count": 173,
   "id": "2060e30c",
   "metadata": {},
   "outputs": [
    {
     "name": "stdout",
     "output_type": "stream",
     "text": [
      "30\n"
     ]
    }
   ],
   "source": [
    "# 8. \n",
    "# Aceeasi lista\n",
    "# Iterati prin ea\n",
    "# Calculati si afisati suma numerelor\n",
    "# (nu aveti voie sa folositi sum)\n",
    "\n",
    "numere = [5, 7, 3, 9, 3, 3, 1, 0, -4, 3]\n",
    "\n",
    "y = 0\n",
    "for x in numere: \n",
    "        y = x + y\n",
    "print(y)\n"
   ]
  },
  {
   "cell_type": "code",
   "execution_count": 178,
   "id": "22ed02df",
   "metadata": {},
   "outputs": [
    {
     "name": "stdout",
     "output_type": "stream",
     "text": [
      "Numarul cel mai mare este: 9\n"
     ]
    }
   ],
   "source": [
    "# 9. \n",
    "# Aceeasi lista\n",
    "# Iterati prin ea\n",
    "# Afisati cel mai mare numar\n",
    "# (nu aveti voie sa folositi max)\n",
    "\n",
    "numere = [5, 7, 3, 9, 3, 3, 1, 0, -4, 3]\n",
    "\n",
    "cel_mai_mare = numere[0]\n",
    "\n",
    "for x in numere:\n",
    "    if x > cel_mai_mare:\n",
    "        cel_mai_mare = x\n",
    "    \n",
    "print(f'Numarul cel mai mare este: {cel_mai_mare}')\n",
    "    "
   ]
  },
  {
   "cell_type": "code",
   "execution_count": 206,
   "id": "c6e2c9db",
   "metadata": {},
   "outputs": [
    {
     "name": "stdout",
     "output_type": "stream",
     "text": [
      "[-5, -7, -3, -9, -3, -3, -1, 0, 4, -3]\n"
     ]
    }
   ],
   "source": [
    "# 10.\n",
    "# Aceeasi lista\n",
    "# Iterati prin ea\n",
    "# Daca numarul e pozitiv, inlocuiti-l cu valoarea lui negativa\n",
    "# Ex: daca e 3, sa devina -3\n",
    "# Afisati noua lista\n",
    "\n",
    "numere = [5, 7, 3, 9, 3, 3, 1, 0, -4, 3]\n",
    "\n",
    "# y = []   \n",
    "\n",
    "# for x in numere:\n",
    "#     if x >= 0:\n",
    "#         y = -x    \n",
    "#         print(y)  # varianta initiala incercata - nu-mi returna inversul lui '-4' asa ca am cautat ceva mai avansat\n",
    "\n",
    "def Convert(numere):\n",
    "    return [ -i for i in numere ]\n",
    "  \n",
    "print(Convert(numere))"
   ]
  },
  {
   "cell_type": "code",
   "execution_count": 332,
   "id": "19709ad3",
   "metadata": {},
   "outputs": [
    {
     "name": "stdout",
     "output_type": "stream",
     "text": [
      "[2, 12, -6, -4]\n",
      "[-5, 7, 9, 3, 1, 3]\n",
      "[7, 2, 9, 12, 3, 1, 3]\n",
      "[-5, -6, -4]\n"
     ]
    }
   ],
   "source": [
    "# 11.\n",
    "alte_numere = [-5, 7, 2, 9, 12, 3, 1, -6, -4, 3]\n",
    "numere_pare = []\n",
    "numere_impare = []\n",
    "numere_pozitive = []\n",
    "numere_negative = []\n",
    "# Iterati prin lista alte_numere \n",
    "# Populati corect celelalte liste\n",
    "# Afisati cele 4 liste la final\n",
    "\n",
    "for x in alte_numere:\n",
    "    if x % 2 == 0:\n",
    "        numere_pare.append(x)\n",
    "    if x % 2 != 0:\n",
    "        numere_impare.append(x)\n",
    "    if x >= 0:\n",
    "        numere_pozitive.append(x)\n",
    "    if x < 0:\n",
    "        numere_negative.append(x)\n",
    "        \n",
    "print(numere_pare)\n",
    "print(numere_impare)\n",
    "print(numere_pozitive)\n",
    "print(numere_negative)"
   ]
  },
  {
   "cell_type": "code",
   "execution_count": 334,
   "id": "84015a76",
   "metadata": {},
   "outputs": [
    {
     "name": "stdout",
     "output_type": "stream",
     "text": [
      "[-6, -5, -4, 1, 2, 3, 3, 7, 9, 12]\n"
     ]
    }
   ],
   "source": [
    "# 12.\n",
    "# Aceeasi lista\n",
    "# Ordonati crescator lista fara sa folositi sort\n",
    "\n",
    "alte_numere = [-5, 7, 2, 9, 12, 3, 1, -6, -4, 3]\n",
    "\n",
    "new_list = []\n",
    "\n",
    "while alte_numere:\n",
    "    min = alte_numere[0]  \n",
    "    for x in alte_numere: \n",
    "        if x < min:\n",
    "            min = x\n",
    "    new_list.append(min)\n",
    "    alte_numere.remove(min)    \n",
    "\n",
    "print(new_list)"
   ]
  },
  {
   "cell_type": "code",
   "execution_count": 2,
   "id": "30b34f31",
   "metadata": {},
   "outputs": [
    {
     "name": "stdout",
     "output_type": "stream",
     "text": [
      "Ma gandesc la un numar de la 0 la 30...\n",
      "Ghiceste numaruL: 22\n",
      "Numarul ghicit e prea mic.\n",
      "Ghiceste numaruL: 11\n",
      "Numarul ghicit e prea mic.\n",
      "Ghiceste numaruL: 11\n",
      "Numarul ghicit e prea mic.\n",
      "Ghiceste numaruL: 11\n",
      "Numarul ghicit e prea mic.\n",
      "Ghiceste numaruL: 17\n",
      "Numarul ghicit e prea mic.\n",
      "Nu, ai ramas fara incercari... numarul la care ma gandeam era 26\n"
     ]
    }
   ],
   "source": [
    "# 13.\n",
    "# Ghicitoare de numar\n",
    "# numar_secret = Generati un numar random intre 1 si 30\n",
    "# Numar_ghicit = None\n",
    "# Folosind un while\n",
    "#    User alege un numar\n",
    "#    Programul ii spune:\n",
    "# Nr secret e mai mare\n",
    "# Nr secret e mai mic\n",
    "# Felicitari! Ai ghicit!\n",
    "\n",
    "import random\n",
    "numar_incercari = 0\n",
    "numar_secret = random.randint(1, 30)\n",
    "print('Ma gandesc la un numar de la 0 la 30...')\n",
    "\n",
    "while numar_incercari < 5:\n",
    "    numar_ghicit = int(input('Ghiceste numaruL: '))\n",
    "    numar_incercari = numar_incercari + 1\n",
    "\n",
    "    if numar_ghicit < numar_secret:\n",
    "        print('Numarul ghicit e prea mic.')\n",
    "    if numar_ghicit > numar_secret:\n",
    "        print('Numarul ghicit e prea mare.')\n",
    "    if numar_ghicit == numar_secret:\n",
    "        print(f'Bravo! Ai ghicit numarul din {numar_incercari} mutari')\n",
    "\n",
    "\n",
    "if numar_ghicit != numar_secret:\n",
    "    numar_secret = str(numar_secret)\n",
    "    print(f'Nu, ai ramas fara incercari... numarul la care ma gandeam era {numar_secret}')\n",
    "        \n",
    "    "
   ]
  },
  {
   "cell_type": "code",
   "execution_count": 47,
   "id": "7affba32",
   "metadata": {},
   "outputs": [
    {
     "name": "stdout",
     "output_type": "stream",
     "text": [
      "Alegeti un numar de la 0 la 9: 5\n",
      "\n",
      "1 \n",
      "2 2 \n",
      "3 3 3 \n",
      "4 4 4 4 \n",
      "5 5 5 5 5 \n"
     ]
    }
   ],
   "source": [
    "# 14. \n",
    "# Alegeti un numar de la tastatura\n",
    "# Ex:7\n",
    "# Scrieti un program care sa genereze in consola urmatoarea piramida\n",
    "# 1\n",
    "# 22\n",
    "# 333\n",
    "# 4444\n",
    "# 55555\n",
    "# 666666\n",
    "# 7777777\n",
    "\n",
    "# Ex:3\n",
    "# 1\n",
    "# 22\n",
    "# 333\n",
    "\n",
    " \n",
    "randuri = int(input('Alegeti un numar de la 0 la 9: '))\n",
    "\n",
    "for i in range(randuri + 1):\n",
    "    for j in range(i):       \n",
    "        print(i, end=' ')    \n",
    "    print('')"
   ]
  },
  {
   "cell_type": "code",
   "execution_count": 56,
   "id": "4b99070d",
   "metadata": {},
   "outputs": [
    {
     "name": "stdout",
     "output_type": "stream",
     "text": [
      "Cifra curenta este: 1\n",
      "Cifra curenta este: 2\n",
      "Cifra curenta este: 3\n",
      "Cifra curenta este: 4\n",
      "Cifra curenta este: 5\n",
      "Cifra curenta este: 6\n",
      "Cifra curenta este: 7\n",
      "Cifra curenta este: 8\n",
      "Cifra curenta este: 9\n",
      "Cifra curenta este: 0\n"
     ]
    }
   ],
   "source": [
    "# 15.\n",
    "tastatura_telefon = [\n",
    "  [1, 2, 3],\n",
    "  [4, 5, 6],\n",
    "  [7, 8, 9],\n",
    "  [0]\n",
    "]\n",
    "# Iterati prin lista 2d\n",
    "# Printati ‘Cifra curenta este x’\n",
    "# (hint: nested for - adica for in for)\n",
    "\n",
    "for i in range(len(tastatura_telefon)):\n",
    "    for j in range(len(tastatura_telefon[i])):\n",
    "        print(f'Cifra curenta este: {tastatura_telefon[i][j]}')\n",
    "   "
   ]
  }
 ],
 "metadata": {
  "kernelspec": {
   "display_name": "Python 3 (ipykernel)",
   "language": "python",
   "name": "python3"
  },
  "language_info": {
   "codemirror_mode": {
    "name": "ipython",
    "version": 3
   },
   "file_extension": ".py",
   "mimetype": "text/x-python",
   "name": "python",
   "nbconvert_exporter": "python",
   "pygments_lexer": "ipython3",
   "version": "3.10.6"
  }
 },
 "nbformat": 4,
 "nbformat_minor": 5
}
