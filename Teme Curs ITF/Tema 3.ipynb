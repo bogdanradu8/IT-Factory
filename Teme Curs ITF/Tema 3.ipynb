{
 "cells": [
  {
   "cell_type": "code",
   "execution_count": 7,
   "id": "245fe718",
   "metadata": {},
   "outputs": [
    {
     "name": "stdout",
     "output_type": "stream",
     "text": [
      "['do', 're', 'mi', 'fa', 'sol', 'la', 'si', 'do']\n",
      "['do', 'si', 'la', 'sol', 'fa', 'mi', 're', 'do']\n",
      "['do', 're', 'mi', 'fa', 'sol', 'la', 'si', 'do']\n"
     ]
    }
   ],
   "source": [
    "# # 1.\n",
    "# # Declara o lista note_muzicale in care sa pui do re mi etc pana la do\n",
    "# # Afiseaz-o\n",
    "# # Inverseaza ordinea folosind slicing si suprascrie aceasta lista\n",
    "# # Printeaza varianta actuala (inversata)\n",
    "# # Pe aceasta lista, aplica o metoda care banuiesti ca face acelasi lucru, adica sa ii inverseze ordinea. \n",
    "# (Nu trebuie sa o suprascrii in acest caz, deoarece metoda face asta automat)\n",
    "# # Printeaza varianta actuala a listei. Practic ai ajuns inapoi la varianta initiala\n",
    "\n",
    "# # Concluzii: slicing e temporar, daca vrei sa pastrezi noua varianta va trebuie sa suprascrii lista sau\n",
    "# sa o salvezi intr-o lista noua. Metoda gasita de tine, face suprascrierea automat si permanentizeaza aceste modificari. \n",
    "# Ambele variante isi gasesc utilitatea in functie de ce ne dorim in acel moment. \n",
    "\n",
    "note_muzicale = ['do','re','mi','fa','sol','la','si','do']\n",
    "print(note_muzicale)\n",
    "note_muzicale = note_muzicale[::-1]\n",
    "print(note_muzicale)\n",
    "note_muzicale.reverse()\n",
    "print(note_muzicale)\n"
   ]
  },
  {
   "cell_type": "code",
   "execution_count": 9,
   "id": "38536ae9",
   "metadata": {},
   "outputs": [
    {
     "name": "stdout",
     "output_type": "stream",
     "text": [
      "2\n"
     ]
    }
   ],
   "source": [
    "# 2. \n",
    "# De cate ori apare ‘do’?\n",
    "\n",
    "print(note_muzicale.count('do'))"
   ]
  },
  {
   "cell_type": "code",
   "execution_count": 12,
   "id": "ea788874",
   "metadata": {},
   "outputs": [
    {
     "name": "stdout",
     "output_type": "stream",
     "text": [
      "[3, 1, 0, 2, 6, 5, 4]\n",
      "[3, 1, 0, 2, 6, 5, 4]\n"
     ]
    }
   ],
   "source": [
    "# 3.\n",
    "# Avand 2 liste, [3, 1, 0, 2] si [6, 5, 4]\n",
    "# Gasiti 2 variante sa le uniti intr-o singura lista. \n",
    "\n",
    "list1 = [3, 1, 0, 2]\n",
    "list2 = [6, 5, 4]\n",
    "\n",
    "list3 = list1 + list2\n",
    "\n",
    "for x in list2:\n",
    "  list1.append(x)\n",
    "\n",
    "print(list3)\n",
    "print(list1)"
   ]
  },
  {
   "cell_type": "code",
   "execution_count": 34,
   "id": "f3afa92f",
   "metadata": {},
   "outputs": [
    {
     "name": "stdout",
     "output_type": "stream",
     "text": [
      "[0, 1, 2, 3, 4, 5, 6]\n",
      "[1, 2, 3, 4, 5, 6]\n"
     ]
    }
   ],
   "source": [
    "# 4.\n",
    "# Sortati si afisati lista generata la ex anterior\n",
    "# Stergeti numarul 0 folosind o functie\n",
    "# Afisati iar lista\n",
    "\n",
    "list1 = [3, 1, 0, 2, 6, 5, 4]\n",
    "\n",
    "list1.sort()\n",
    "print(list1)\n",
    "list1.remove(0)\n",
    "print(list1)"
   ]
  },
  {
   "cell_type": "code",
   "execution_count": 35,
   "id": "f31e4b60",
   "metadata": {},
   "outputs": [
    {
     "name": "stdout",
     "output_type": "stream",
     "text": [
      "Lista nu este goala\n"
     ]
    }
   ],
   "source": [
    "# 5. \n",
    "# Folosind un if verificati lista generata la ex3 si afisati\n",
    "# Lista este goala\n",
    "# Lista nu este goala\n",
    "\n",
    "if len(list1) == 0:\n",
    "    print('Lista este goala')\n",
    "else:\n",
    "    print('Lista nu este goala')"
   ]
  },
  {
   "cell_type": "code",
   "execution_count": 28,
   "id": "f8bd4b9c",
   "metadata": {},
   "outputs": [
    {
     "name": "stdout",
     "output_type": "stream",
     "text": [
      "[]\n"
     ]
    }
   ],
   "source": [
    "# 6. \n",
    "# Folositi o functie care sa goleasca lista de la ex3\n",
    "\n",
    "list1.clear()\n",
    "print(list1)"
   ]
  },
  {
   "cell_type": "code",
   "execution_count": 64,
   "id": "e76dc952",
   "metadata": {},
   "outputs": [
    {
     "name": "stdout",
     "output_type": "stream",
     "text": [
      "Lista nu este goala\n"
     ]
    }
   ],
   "source": [
    "# 7. \n",
    "# Copy paste la ex 5. Verificati inca o data.\n",
    "# Acum ar trebui sa se afiseze ca lista e goala\n",
    "\n",
    "if len(list1) == 0:\n",
    "    print('Lista este goala')\n",
    "else:\n",
    "    print('Lista nu este goala')"
   ]
  },
  {
   "cell_type": "code",
   "execution_count": 65,
   "id": "cb4bd923",
   "metadata": {},
   "outputs": [
    {
     "name": "stdout",
     "output_type": "stream",
     "text": [
      "dict_keys(['Ana', 'Gigel', 'Dorel'])\n"
     ]
    }
   ],
   "source": [
    "# 8. \n",
    "# Avand dictionarul dict1 = {'Ana' : 8, 'Gigel' : 10, 'Dorel' : 5}\n",
    "# Folositi o functie ca sa afisati Elevii (cheile)\n",
    "\n",
    "dict1 = {'Ana' : 8, 'Gigel' : 10, 'Dorel' : 5}\n",
    "print(dict1.keys())"
   ]
  },
  {
   "cell_type": "code",
   "execution_count": 66,
   "id": "f3a468b3",
   "metadata": {},
   "outputs": [
    {
     "name": "stdout",
     "output_type": "stream",
     "text": [
      "Ana a luat nota 8\n",
      "Gigel a luat nota 10\n",
      "Dorel a luat nota 5\n"
     ]
    }
   ],
   "source": [
    "# 9. \n",
    "# Printati cei 3 elevi si notele lor\n",
    "# Ex: ‘Ana a luat nota {x}’\n",
    "# Doar nota o veti lua folosindu-va de cheie\n",
    "\n",
    "for x in dict1:\n",
    "  print(f'{x} a luat nota {dict1[x]}')"
   ]
  },
  {
   "cell_type": "code",
   "execution_count": 67,
   "id": "e2f96898",
   "metadata": {},
   "outputs": [
    {
     "name": "stdout",
     "output_type": "stream",
     "text": [
      "{'Ana': 8, 'Gigel': 10, 'Dorel': 6}\n"
     ]
    }
   ],
   "source": [
    "# 10.\n",
    "# Dorel a facut contestatie si a primit 6\n",
    "# Modificati nota lui Dorel in 6\n",
    "# Printati nota dupa modificare\n",
    "\n",
    "dict1['Dorel'] = 6\n",
    "print(dict1)"
   ]
  },
  {
   "cell_type": "code",
   "execution_count": 68,
   "id": "b347c54f",
   "metadata": {},
   "outputs": [
    {
     "name": "stdout",
     "output_type": "stream",
     "text": [
      "{'Ana': 8, 'Dorel': 6, 'Ionica': 9}\n"
     ]
    }
   ],
   "source": [
    "# 11.\n",
    "# Gigel se transfera din clasa\n",
    "# Cautati o functie care sa il stearga\n",
    "# Vine un coleg nou. Adaugati Ionica, cu nota 9\n",
    "# Printati noii elevi\n",
    "\n",
    "dict1.pop('Gigel')\n",
    "dict1.update({'Ionica': 9})\n",
    "print(dict1)"
   ]
  },
  {
   "cell_type": "code",
   "execution_count": 69,
   "id": "9b05cd34",
   "metadata": {},
   "outputs": [
    {
     "name": "stdout",
     "output_type": "stream",
     "text": [
      "{'miercuri', 'duminica', 'joi', 'marti', 'sambata', 'vineri', 'luni'}\n"
     ]
    }
   ],
   "source": [
    "# 12.\n",
    "# Set\n",
    "# zile_sapt = {'luni', 'marti', 'miercuri', 'joi', 'vineri', 'sambata', 'duminica'}\n",
    "# weekend = {'sambata', 'duminica'}\n",
    "# Adaugati in zilele_sapt ‘luni’\n",
    "# Afisati zile_sapt. Ce observati?\n",
    "\n",
    "zile_sapt = {'luni', 'marti', 'miercuri', 'joi', 'vineri', 'sambata', 'duminica'}\n",
    "weekend = {'sambata', 'duminica'}\n",
    "zile_sapt.add('luni')\n",
    "print(zile_sapt)\n",
    "\n",
    "# SET-urile nu accepta duplicate"
   ]
  },
  {
   "cell_type": "code",
   "execution_count": 71,
   "id": "bd87175d",
   "metadata": {},
   "outputs": [
    {
     "name": "stdout",
     "output_type": "stream",
     "text": [
      "Weekend este un subset al zilelor din sapt\n"
     ]
    }
   ],
   "source": [
    "# 13.\n",
    "# Folositi un if si verificati daca \n",
    "# Weekend este un subset al zilelor din sapt\n",
    "# Weekend nu este un subset al zilelor din sapt\n",
    "\n",
    "if weekend.issubset(zile_sapt):\n",
    "    print('Weekend este un subset al zilelor din sapt')\n",
    "else:\n",
    "    print('Weekend nu este un subset al zilelor din sapt')"
   ]
  },
  {
   "cell_type": "code",
   "execution_count": 82,
   "id": "4ba0cc1e",
   "metadata": {},
   "outputs": [
    {
     "name": "stdout",
     "output_type": "stream",
     "text": [
      "{'marti', 'luni', 'miercuri', 'joi', 'vineri'}\n"
     ]
    }
   ],
   "source": [
    "# 14. \n",
    "# Afisati diferentele dintre aceste 2 seturi\n",
    "\n",
    "print(zile_sapt.symmetric_difference(weekend))"
   ]
  },
  {
   "cell_type": "code",
   "execution_count": 81,
   "id": "e45a6695",
   "metadata": {},
   "outputs": [
    {
     "name": "stdout",
     "output_type": "stream",
     "text": [
      "{'duminica', 'sambata'}\n"
     ]
    }
   ],
   "source": [
    "# 15.\n",
    "# Afisati intersectia elementelor din aceste 2 seturi\n",
    "\n",
    "print(zile_sapt.intersection(weekend))"
   ]
  },
  {
   "cell_type": "raw",
   "id": "dedc2706",
   "metadata": {},
   "source": []
  }
 ],
 "metadata": {
  "kernelspec": {
   "display_name": "Python 3 (ipykernel)",
   "language": "python",
   "name": "python3"
  },
  "language_info": {
   "codemirror_mode": {
    "name": "ipython",
    "version": 3
   },
   "file_extension": ".py",
   "mimetype": "text/x-python",
   "name": "python",
   "nbconvert_exporter": "python",
   "pygments_lexer": "ipython3",
   "version": "3.10.6"
  }
 },
 "nbformat": 4,
 "nbformat_minor": 5
}
