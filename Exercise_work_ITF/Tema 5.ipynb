{
 "cells": [
  {
   "cell_type": "markdown",
   "id": "5b98767f",
   "metadata": {},
   "source": [
    "## TEMA 5"
   ]
  },
  {
   "cell_type": "code",
   "execution_count": 1,
   "id": "04509ff4",
   "metadata": {},
   "outputs": [
    {
     "name": "stdout",
     "output_type": "stream",
     "text": [
      "5\n"
     ]
    }
   ],
   "source": [
    "# 1. Functie care sa calculeze si sa returneze suma a 2 numere\n",
    "\n",
    "def suma(nr1, nr2):\n",
    "    return nr1 + nr2\n",
    "    \n",
    "print(suma(2,3))"
   ]
  },
  {
   "cell_type": "code",
   "execution_count": 2,
   "id": "6f8b2296",
   "metadata": {},
   "outputs": [
    {
     "data": {
      "text/plain": [
       "True"
      ]
     },
     "execution_count": 2,
     "metadata": {},
     "output_type": "execute_result"
    }
   ],
   "source": [
    "# 2. Functie care sa returneze TRUE daca un numar este par, FALSE pt impar\n",
    "\n",
    "def nr_par(nr):\n",
    "    return nr % 2 == 0\n",
    "\n",
    "nr_par(20)"
   ]
  },
  {
   "cell_type": "code",
   "execution_count": 3,
   "id": "0294a778",
   "metadata": {},
   "outputs": [
    {
     "name": "stdout",
     "output_type": "stream",
     "text": [
      "18\n",
      "17\n"
     ]
    }
   ],
   "source": [
    "# 3. Functie care returneaza numarul total de caractere din numele tau complet.\n",
    "# (nume, prenume, nume_mijlociu) \n",
    "\n",
    "def nr_caractere(nume, prenume, nume_mijlociu):\n",
    "    return len(nume)+len(prenume)+len(nume_mijlociu)\n",
    "\n",
    "print(nr_caractere('Mihai', 'Adrian', 'Popescu'))\n",
    "print(nr_caractere('Vlad', 'Andrei', 'Popescu'))"
   ]
  },
  {
   "cell_type": "code",
   "execution_count": 4,
   "id": "2e6085b3",
   "metadata": {},
   "outputs": [
    {
     "name": "stdout",
     "output_type": "stream",
     "text": [
      "Aria dreptunghiului este: 20\n"
     ]
    }
   ],
   "source": [
    "# 4. Functie care returneaza aria dreptunghiului\n",
    "\n",
    "def arie_dreptunghi(lungime, latime):\n",
    "    return lungime * latime\n",
    "\n",
    "print(f'Aria dreptunghiului este: {arie_dreptunghi(5, 4)}')"
   ]
  },
  {
   "cell_type": "code",
   "execution_count": 38,
   "id": "c8bd8c6d",
   "metadata": {},
   "outputs": [
    {
     "name": "stdout",
     "output_type": "stream",
     "text": [
      "Aria cercului este de: 615.7521601035994 cm patrati\n"
     ]
    }
   ],
   "source": [
    "# 5. Functie care returneaza aria cercului\n",
    "\n",
    "def arie_cerc(raza):\n",
    "    import math\n",
    "    return math.pi * (raza**2)\n",
    "\n",
    "arie_cerc(12)\n",
    "print(f'Aria cercului este de: {arie_cerc(14)} cm patrati')"
   ]
  },
  {
   "cell_type": "code",
   "execution_count": 6,
   "id": "bfec759b",
   "metadata": {},
   "outputs": [
    {
     "name": "stdout",
     "output_type": "stream",
     "text": [
      "True\n"
     ]
    }
   ],
   "source": [
    "# 6. Functie care returneaza True daca un caracter x se gaseste intr-un string dat. Fasle daca nu\n",
    "\n",
    "def find_x(propozitie):        \n",
    "    return 'x' in propozitie.lower()\n",
    "          \n",
    "print(find_x('Merry Xmas!'))"
   ]
  },
  {
   "cell_type": "code",
   "execution_count": 7,
   "id": "6bb4cd15",
   "metadata": {},
   "outputs": [
    {
     "name": "stdout",
     "output_type": "stream",
     "text": [
      "Numarul de caractere lower este: 8\n",
      "Numarul de caractere upper este: 16\n"
     ]
    }
   ],
   "source": [
    "# 7. Functie fara return, primeste un string si printeaza pe ecran:\n",
    "# Nr de caractere lower case este x\n",
    "# Nr de caractere upper case exte y \n",
    "\n",
    "\n",
    "def lowup(string):\n",
    "    numar_low = 0\n",
    "    numar_up = 0\n",
    "    \n",
    "    for i in string:\n",
    "        if(i.islower()):\n",
    "            numar_low += 1\n",
    "    \n",
    "    for j in string:\n",
    "        if(j.isupper()):\n",
    "            numar_up += 1\n",
    "\n",
    "    print(f'Numarul de caractere lower este: {numar_low}')\n",
    "    print(f'Numarul de caractere upper este: {numar_up}')\n",
    "    \n",
    "lowup('AvioNUUUUL este MAAAAAAREe')"
   ]
  },
  {
   "cell_type": "code",
   "execution_count": 8,
   "id": "cf43b4be",
   "metadata": {},
   "outputs": [
    {
     "name": "stdout",
     "output_type": "stream",
     "text": [
      "[0, 1, 2, 3, 5, 5, 7]\n"
     ]
    }
   ],
   "source": [
    "# 8. Functie care primeste o LISTA de numere si returneaza o LISTA doar cu numerele pozitive\n",
    "\n",
    "def pozitive(numere):\n",
    "    numere_pozitive = []\n",
    "    for x in numere:\n",
    "        if x >= 0:\n",
    "            numere_pozitive.append(x)\n",
    "    return numere_pozitive\n",
    "    \n",
    "        \n",
    "lista = [0, -4, 1, 2, 3, 5, -9, 5, 7]\n",
    "\n",
    "print(pozitive(lista))"
   ]
  },
  {
   "cell_type": "code",
   "execution_count": 9,
   "id": "dc5e09f8",
   "metadata": {},
   "outputs": [
    {
     "name": "stdout",
     "output_type": "stream",
     "text": [
      "Al doilea nr \"3\" este mai mare decat primul nr \"2\"\n"
     ]
    }
   ],
   "source": [
    "# 9. Functie care nu returneaza nimic. Primeste 2 numere si PRINTEAZA\n",
    "# Primul numar x este mai mare decat al doilea nr y\n",
    "# Al doilea nr y este mai mare decat primul nr x\n",
    "# Numerele sunt egale. \n",
    "\n",
    "def check_num(x, y):\n",
    "    if x > y:\n",
    "        print(f'Primul numar \"{x}\" este mai mare decat al doilea nr \"{y}\"')\n",
    "    elif x == y:\n",
    "        print('Numerele sunt egale')\n",
    "    else:\n",
    "        print(f'Al doilea nr \"{y}\" este mai mare decat primul nr \"{x}\"')\n",
    "        \n",
    "check_num(2,3)"
   ]
  },
  {
   "cell_type": "code",
   "execution_count": 10,
   "id": "ea7b3362",
   "metadata": {},
   "outputs": [
    {
     "name": "stdout",
     "output_type": "stream",
     "text": [
      "Nu am adaugat numarul 3 in set. Acesta exista deja\n"
     ]
    },
    {
     "data": {
      "text/plain": [
       "False"
      ]
     },
     "execution_count": 10,
     "metadata": {},
     "output_type": "execute_result"
    }
   ],
   "source": [
    "# 10. Functie care primeste un numar si un set de numere.\n",
    "# Printeaza ‘am adaugat numarul nou in set’ + returneaza True\n",
    "# Sau Printeaza ‘nu am adaugat numarul in set. Acesta exista deja’ + returneaza False\n",
    "\n",
    "def adaugare(num, set_num):\n",
    "    \n",
    "    if num not in set_num:\n",
    "        set_num.add(num)\n",
    "        print('Am adaugat numarul nou in set')\n",
    "        return True\n",
    "    \n",
    "    else:\n",
    "        print(f'Nu am adaugat numarul {num} in set. Acesta exista deja')\n",
    "        return False\n",
    "       \n",
    "my_set = {1, 3, 4, 5, 7}\n",
    "\n",
    "adaugare(3, my_set)"
   ]
  },
  {
   "cell_type": "code",
   "execution_count": 11,
   "id": "878a3595",
   "metadata": {},
   "outputs": [
    {
     "name": "stdout",
     "output_type": "stream",
     "text": [
      "31\n"
     ]
    }
   ],
   "source": [
    "# 11. Functie care primeste o luna din an si returneaza cate zile are acea luna\n",
    "\n",
    "def an_bisect(an):\n",
    "    if an % 400 == 0:\n",
    "        return True\n",
    "    if an % 100 == 0:\n",
    "        return False\n",
    "    if an % 4 == 0:\n",
    "        return True\n",
    "    return False\n",
    "def zile_luna(luna, an):\n",
    "    if luna in {1, 3, 5, 7, 8, 10, 12}:\n",
    "        return 31\n",
    "    if luna == 2:\n",
    "        if an_bisect(an):\n",
    "            return 29\n",
    "        return 28\n",
    "    return 30\n",
    "\n",
    "print(zile_luna(5, 2016))"
   ]
  },
  {
   "cell_type": "code",
   "execution_count": 2,
   "id": "35d20b6f",
   "metadata": {},
   "outputs": [
    {
     "name": "stdout",
     "output_type": "stream",
     "text": [
      "\n",
      "Introdu tipul de operatie pe care doresti sa il efectuezi:\n",
      "a pentru adunare\n",
      "b pentru scadere\n",
      "c pentru inmultire\n",
      "d pentru impartire\n",
      "a\n",
      "Introdu primul numar: 2\n",
      "Introdu al 2-lea numar: 3\n",
      "2 + 3 = 5\n",
      "\n",
      "Vrei sa incerci din nou?\n",
      "Introdu DA sau NU. \n",
      "nu\n",
      "Ne vedem mai tarziu.\n"
     ]
    }
   ],
   "source": [
    "# 12. Functie calculator care sa returneze 4 valori \n",
    "# Suma, diferenta, inmultirea, impartirea a 2 numere\n",
    "\n",
    "# In final vei putea face:\n",
    "# a, b, c, d = calculator(10, 2)\n",
    "# print(\"Suma: \", a)\n",
    "# print(\"Diferenta: \", b)\n",
    "# print(\"Inmultirea: \", c)\n",
    "# print(\"Impartirea: \", d)\n",
    "\n",
    "def calculator():\n",
    "    operator = input('''\n",
    "Introdu tipul de operatie pe care doresti sa il efectuezi:\n",
    "a pentru adunare\n",
    "b pentru scadere\n",
    "c pentru inmultire\n",
    "d pentru impartire\n",
    "''')\n",
    "\n",
    "    nr1 = int(input('Introdu primul numar: '))\n",
    "    nr2 = int(input('Introdu al 2-lea numar: '))\n",
    "\n",
    "    if operator == 'a':\n",
    "        print(f'{nr1} + {nr2} = {nr1 + nr2}')\n",
    "\n",
    "    elif operator == 'b':\n",
    "        print(f'{nr1} - {nr2} = {nr1 - nr2}')\n",
    "\n",
    "    elif operator == 'c':\n",
    "        print(f'{nr1} * {nr2} = {nr1 * nr2}')\n",
    "\n",
    "    elif operator == 'd':\n",
    "        print(f'{nr1} / {nr2} = {nr1 / nr2}')\n",
    "\n",
    "    else:\n",
    "        print('Nu ai introdus un operator valid. Te rog reintrodu.')\n",
    "    reincercare()\n",
    "    \n",
    "\n",
    "def reincercare():\n",
    "    calc_reincercare = input('''\n",
    "Vrei sa incerci din nou?\n",
    "Introdu DA sau NU. \n",
    "''')\n",
    "\n",
    "    if calc_reincercare.upper() == 'DA':\n",
    "        calculator()\n",
    "    elif calc_reincercare.upper() == 'NU':\n",
    "        print('Ne vedem mai tarziu.')\n",
    "    else:\n",
    "        reincercare()\n",
    "\n",
    "calculator()"
   ]
  },
  {
   "cell_type": "code",
   "execution_count": 58,
   "id": "e04a5982",
   "metadata": {},
   "outputs": [
    {
     "data": {
      "text/plain": [
       "{0: 0, 1: 2, 2: 0, 3: 1, 4: 0, 5: 3, 6: 0, 7: 2, 8: 0, 9: 1}"
      ]
     },
     "execution_count": 58,
     "metadata": {},
     "output_type": "execute_result"
    }
   ],
   "source": [
    "# 13. Functie care primeste o lista de cifre (adica doar 0-9)\n",
    "\n",
    "lst = [1, 3, 1, 5, 9, 7, 7, 5, 5]\n",
    "\n",
    "# Returneaza un DICT care ne spune de cate ori apare fiecare cifra\n",
    "# my_dict = {\n",
    "# 0: 0\n",
    "# 1 :2\n",
    "# 2: 0\n",
    "# 3: 1\n",
    "# 4: 0\n",
    "# 5: 3\n",
    "# 6: 0\n",
    "# 7: 2\n",
    "# 8: 0\n",
    "# 9: 1\n",
    "# # }\n",
    "\n",
    "def numarare(lista):\n",
    "    lista.sort()\n",
    "    my_dict = {}    \n",
    "    my_dict.update(enumerate(lista))\n",
    "     \n",
    "    rep = {0:0,1:0,2:0,3:0,4:0,5:0,6:0,7:0,8:0,9:0}\n",
    "    for elem in my_dict.values():\n",
    "        if elem in rep:\n",
    "            rep[elem] += 1        \n",
    "        else:\n",
    "            rep[elem] = 1\n",
    "    return rep\n",
    "\n",
    "numarare(lst)"
   ]
  },
  {
   "cell_type": "code",
   "execution_count": 43,
   "id": "02fba7cf",
   "metadata": {},
   "outputs": [
    {
     "data": {
      "text/plain": [
       "5"
      ]
     },
     "execution_count": 43,
     "metadata": {},
     "output_type": "execute_result"
    }
   ],
   "source": [
    "# 14. Functie care primeste 3 numere\n",
    "# Returneaza valoarea maxima dintre ele\n",
    "\n",
    "def maxim(a, b, c):\n",
    "    cel_mai_mare = 0\n",
    "    if a > b and a > c:\n",
    "        cel_mai_mare = a\n",
    "    if b > a and b > c:\n",
    "        cel_mai_mare = b\n",
    "    if c > a and c > b:\n",
    "        cel_mai_mare = c        \n",
    "    return cel_mai_mare        \n",
    "\n",
    "maxim(1,5,3)        "
   ]
  },
  {
   "cell_type": "code",
   "execution_count": 61,
   "id": "7d217443",
   "metadata": {},
   "outputs": [
    {
     "data": {
      "text/plain": [
       "28"
      ]
     },
     "execution_count": 61,
     "metadata": {},
     "output_type": "execute_result"
    }
   ],
   "source": [
    "# 15. Functie care sa primeasca un numar si sa retunreze suma tuturor numerelor de la 0 la acel numar\n",
    "# Ex: daca dam nr 3\n",
    "# Suma va fi 6 (0+1+2+3)\n",
    "\n",
    "def z(num):\n",
    "    mai_mici = list(range(0, num + 1))\n",
    "    return sum(mai_mici)\n",
    "    \n",
    "z(7)"
   ]
  },
  {
   "cell_type": "code",
   "execution_count": 4,
   "id": "90885fc4",
   "metadata": {},
   "outputs": [
    {
     "name": "stdout",
     "output_type": "stream",
     "text": [
      "Introduceti un numar: 5\n",
      "Numarul ales este pozitiv\n",
      "Sfarsitul functiei\n"
     ]
    }
   ],
   "source": [
    "# 16. Functie care nu primeste argumente, dar cere un input de la tastatura si va printa\n",
    "# “Numarul ales este pozitiv” sau “Numarul ales este negativ” sau “Numarul ales este 0”, dupa caz,\n",
    "# iar daca nu introducem un numar, sa se afiseze “Nu ati ales un numar valid”; \n",
    "# la final sa se afiseze “Sfarsitul functiei” indiferent de caz.\n",
    "\n",
    "def pozitiv():\n",
    "    try: \n",
    "        numar = int(input(f'Introduceti un numar: '))\n",
    "        \n",
    "    except: \n",
    "        print('Nu ati ales un numar valid')\n",
    "                   \n",
    "    else:\n",
    "        if numar > 0:\n",
    "            print('Numarul ales este pozitiv')\n",
    "        elif numar == 0:\n",
    "            print('Numarul ales este 0')\n",
    "        else:\n",
    "            print('Numarul ales este negativ')\n",
    "            \n",
    "    finally:\n",
    "        print('Sfarsitul functiei')\n",
    "    \n",
    "    \n",
    "pozitiv()"
   ]
  },
  {
   "cell_type": "code",
   "execution_count": 10,
   "id": "8e41c855",
   "metadata": {},
   "outputs": [
    {
     "name": "stdout",
     "output_type": "stream",
     "text": [
      "{2, 3}\n"
     ]
    }
   ],
   "source": [
    "# 17. Functie care primesete 2 liste de numere (numerele pot fi dublate)\n",
    "# Returnati numerele comune \n",
    "\n",
    "# Ex:\n",
    "list1 = [1, 1, 2, 3]\n",
    "list2 = [2, 2, 3, 4]\n",
    "# Raspuns: {2, 3}\n",
    "\n",
    "def dubluri(list_a, list_b):\n",
    "    double = {}\n",
    "    double = set(list1).intersection(list2)\n",
    "    return double\n",
    "\n",
    "print(dubluri(list1, list2))"
   ]
  },
  {
   "cell_type": "code",
   "execution_count": 49,
   "id": "29f2f7ca",
   "metadata": {},
   "outputs": [
    {
     "name": "stdout",
     "output_type": "stream",
     "text": [
      "In urma discountului aplicat, noul pret este: 184.5\n",
      "Reducerea de 110.0 este incorecta!\n"
     ]
    }
   ],
   "source": [
    "# 18. Functie care sa aplice o reducere de pret. Daca apelul functiei nu primeste valoarea reducerii, sa ia valoarea default 10%.\n",
    "# Daca produsul costa 100 lei si aplicam reducere de 10%\n",
    "# Pretul va fi 90\n",
    "# Tratati cazurile in care reducerea e invalida. De ex o reducere de 110% e invalida\n",
    "\n",
    "def reducere(pret, val = 10):\n",
    "    pret = float(pret)\n",
    "    val = float(val)\n",
    "    pretredus = pret - pret * val // 100\n",
    "    \n",
    "    if val > 99:\n",
    "        return f'Reducerea de {val} este incorecta!'\n",
    "    return f'In urma discountului aplicat, noul pret este: {pretredus}'\n",
    "    \n",
    "print(reducere(204.5))\n",
    "print(reducere(200, 110))"
   ]
  },
  {
   "cell_type": "code",
   "execution_count": 11,
   "id": "ea0dea85",
   "metadata": {},
   "outputs": [
    {
     "name": "stdout",
     "output_type": "stream",
     "text": [
      "Data si ora locala: 2022-10-23 10:31:46.805940\n",
      "Data si ora in China: 2022-10-23 15:31:46.805940+08:00\n"
     ]
    }
   ],
   "source": [
    "# 19. Functie care sa afiseze data si ora curenta din ro\n",
    "# (bonus: afisati si data si ora curenta din China)\n",
    "\n",
    "def ora_ro_cn():\n",
    "    from datetime import datetime\n",
    "    import pytz\n",
    "  \n",
    "    ora_locala = datetime.now()\n",
    "    a = datetime.now(pytz.utc) \n",
    "    ora_china = datetime.now(pytz.timezone('Asia/Shanghai'))\n",
    "    \n",
    "    print(f'Data si ora locala: {ora_locala}')\n",
    "    print(f'Data si ora in China: {ora_china}')\n",
    "\n",
    "ora_ro_cn()"
   ]
  },
  {
   "cell_type": "code",
   "execution_count": 19,
   "id": "d7d4ca94",
   "metadata": {},
   "outputs": [
    {
     "name": "stdout",
     "output_type": "stream",
     "text": [
      " Pana la craciun mai sunt 63 zile\n"
     ]
    }
   ],
   "source": [
    "# 20. Functie care sa afiseze cate zile mai sunt pana la ziua ta / sau pana la craciun daca nu vrei sa ne zici cand e ziua ta :)\n",
    "\n",
    "def craciun():\n",
    "    import datetime\n",
    "\n",
    "    azi = datetime.date.today()\n",
    "    craciun = datetime.date(2022,12,25)\n",
    "    zile = craciun - azi\n",
    "    print (f' Pana la craciun mai sunt {zile.days} zile')\n",
    "    \n",
    "craciun()    "
   ]
  },
  {
   "cell_type": "code",
   "execution_count": 2,
   "id": "8490eae4",
   "metadata": {},
   "outputs": [
    {
     "name": "stdout",
     "output_type": "stream",
     "text": [
      "Introdu un nume: Carmen\n"
     ]
    },
    {
     "data": {
      "text/plain": [
       "'feminin'"
      ]
     },
     "execution_count": 2,
     "metadata": {},
     "output_type": "execute_result"
    }
   ],
   "source": [
    "# 21. Functie in care sa dai un nume romanesc si sa iti printeze pe ecran\n",
    "# ‘Numele este de baiat’ sau ‘Numele este de fata’\n",
    "    \n",
    "def gen():\n",
    "    nume = input('Introdu un nume: ')\n",
    "    nume = nume.lower()\n",
    "    exceptii = ['carmen', 'zoe', 'lili', 'lorelei', 'naomi', 'noemi']\n",
    "    for x in exceptii:\n",
    "        if x == nume:\n",
    "            gen = 'feminin'\n",
    "            return gen\n",
    "        else:           \n",
    "            if nume[-1] == 'a':\n",
    "                gen = 'feminin'\n",
    "            else:\n",
    "                gen = 'masculin'\n",
    "    return gen \n",
    "\n",
    "gen()"
   ]
  },
  {
   "cell_type": "code",
   "execution_count": 15,
   "id": "f4c09266",
   "metadata": {},
   "outputs": [
    {
     "ename": "SyntaxError",
     "evalue": "incomplete input (333286577.py, line 15)",
     "output_type": "error",
     "traceback": [
      "\u001b[1;36m  Cell \u001b[1;32mIn [15], line 15\u001b[1;36m\u001b[0m\n\u001b[1;33m    \u001b[0m\n\u001b[1;37m    ^\u001b[0m\n\u001b[1;31mSyntaxError\u001b[0m\u001b[1;31m:\u001b[0m incomplete input\n"
     ]
    }
   ],
   "source": [
    "# C06_EX01: Se da variabila password='12345mypass'. \n",
    "# Creati o bucla care sa accepte parole pana cand ati introdus`o pe cea corecta (salvata dinainte intr`o variabila password)\n",
    "# Tip: Va puteti folosi de mecanismul de exception handling ca sa va asigurati ca parola e cea corecta\n",
    "\n",
    "password = '12345mypass'\n",
    "\n",
    "try:\n",
    "    incercare = input('Introduceti parola: ')\n",
    "    if incercare == password:\n",
    "        print('Ati introdus corect')\n",
    "    else:\n",
    "        return incercare\n",
    "    \n",
    "  \n",
    "\n"
   ]
  }
 ],
 "metadata": {
  "kernelspec": {
   "display_name": "Python 3 (ipykernel)",
   "language": "python",
   "name": "python3"
  },
  "language_info": {
   "codemirror_mode": {
    "name": "ipython",
    "version": 3
   },
   "file_extension": ".py",
   "mimetype": "text/x-python",
   "name": "python",
   "nbconvert_exporter": "python",
   "pygments_lexer": "ipython3",
   "version": "3.10.6"
  }
 },
 "nbformat": 4,
 "nbformat_minor": 5
}
