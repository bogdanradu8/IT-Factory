{
 "cells": [
  {
   "cell_type": "code",
   "execution_count": 1,
   "id": "15b6bea6",
   "metadata": {},
   "outputs": [
    {
     "name": "stdout",
     "output_type": "stream",
     "text": [
      "Hello Pythonistas!\n"
     ]
    }
   ],
   "source": [
    "print(\"Hello Pythonistas!\")"
   ]
  },
  {
   "cell_type": "code",
   "execution_count": 12,
   "id": "389df421",
   "metadata": {},
   "outputs": [
    {
     "ename": "SyntaxError",
     "evalue": "invalid syntax (Temp/ipykernel_1236/454659368.py, line 1)",
     "output_type": "error",
     "traceback": [
      "\u001b[1;36m  File \u001b[1;32m\"C:\\Users\\ChemDash\\AppData\\Local\\Temp/ipykernel_1236/454659368.py\"\u001b[1;36m, line \u001b[1;32m1\u001b[0m\n\u001b[1;33m    Deschidem pycharm, in bara de jos este Terminal\u001b[0m\n\u001b[1;37m              ^\u001b[0m\n\u001b[1;31mSyntaxError\u001b[0m\u001b[1;31m:\u001b[0m invalid syntax\n"
     ]
    }
   ],
   "source": [
    "# Deschidem pycharm, in bara de jos este Terminal\n",
    "# si acolo scriem comanda:\n",
    "\n",
    "# pip install jupyter"
   ]
  },
  {
   "cell_type": "code",
   "execution_count": null,
   "id": "d5964236",
   "metadata": {},
   "outputs": [],
   "source": [
    "# Dupa ce ati rulat comanda de mai sus, va puteti deschide jupyter in browser prin:\n",
    "\n",
    "# jupyter-notebook"
   ]
  },
  {
   "cell_type": "code",
   "execution_count": 2,
   "id": "78cfb4f7",
   "metadata": {},
   "outputs": [],
   "source": [
    "# Cand suntenti in terminal/cmd prompt nu puteti sa lucrati cu cursorul (mouse-ul)"
   ]
  },
  {
   "cell_type": "code",
   "execution_count": 3,
   "id": "59c32e16",
   "metadata": {},
   "outputs": [],
   "source": [
    "# O sa primiti cate un notebook la fiecare ora si va trebui salvat la locatia unde aveti proiectul de Pycharm (C:Users/<some_user>/PycharmProjects/<proj_name>)\n",
    "# si pe urma sa rulati din terminal: jupyter-notebook"
   ]
  },
  {
   "cell_type": "code",
   "execution_count": null,
   "id": "4325f36e",
   "metadata": {},
   "outputs": [],
   "source": []
  },
  {
   "cell_type": "code",
   "execution_count": 8,
   "id": "05649847",
   "metadata": {},
   "outputs": [],
   "source": [
    "# Limbaje compilate (Java) vs limbaje interpretate (Python)\n",
    "\n",
    "# Python e un limbaj interpratat - codul e citit si interpretat linie cu linie si transformat in cod masina\n",
    "# - e foarte importanta indentarea pentru a separa blocurile de cod\n",
    "\n"
   ]
  },
  {
   "cell_type": "code",
   "execution_count": null,
   "id": "d9302423",
   "metadata": {},
   "outputs": [],
   "source": [
    "# py -m pip install jupyterlab  - poate rezolva problema instalarii jupyter\n",
    "# py -m notebook"
   ]
  },
  {
   "cell_type": "code",
   "execution_count": 9,
   "id": "583741c6",
   "metadata": {},
   "outputs": [],
   "source": [
    "# py -m pip install jupyter  - poate rezolva problema instalarii jupyter\n",
    "# py -m jupyter-notebook"
   ]
  },
  {
   "cell_type": "code",
   "execution_count": null,
   "id": "56294513",
   "metadata": {},
   "outputs": [],
   "source": []
  },
  {
   "cell_type": "code",
   "execution_count": 11,
   "id": "1450896b",
   "metadata": {},
   "outputs": [
    {
     "name": "stdout",
     "output_type": "stream",
     "text": [
      "Hello Pythonistas!\n"
     ]
    }
   ],
   "source": [
    "print(\"Hello Pythonistas!\")"
   ]
  },
  {
   "cell_type": "code",
   "execution_count": 14,
   "id": "a788cbca",
   "metadata": {},
   "outputs": [],
   "source": [
    "# Com1\n",
    "# Com2\n",
    "\n",
    "\"\"\"Si acesta este un comentariu,\n",
    "care se intinde pe mai multe linii\"\"\"   # atat commentariu pe mai multe linii, cat si string pe mai multe linii daca e nevoie\n",
    "\n",
    "\n",
    "\n",
    "'''Si ghimilele simple functioneaza\n",
    "la fel cu cele duble'''"
   ]
  },
  {
   "cell_type": "code",
   "execution_count": null,
   "id": "a0b5cc48",
   "metadata": {},
   "outputs": [],
   "source": []
  },
  {
   "cell_type": "code",
   "execution_count": 16,
   "id": "a09388ed",
   "metadata": {},
   "outputs": [],
   "source": [
    "# Aveti\n",
    "# mai multe \n",
    "# linii\n",
    "# pe care vreti sa le comentati \n",
    "\n",
    "\n",
    "# CTRL+/ - pune comentariu la toate liniile selectate"
   ]
  },
  {
   "cell_type": "code",
   "execution_count": 19,
   "id": "611eb7b0",
   "metadata": {},
   "outputs": [],
   "source": [
    "my_number = 10\n",
    "\n",
    "# o variabila: e o forma de a stoca date, care are:\n",
    "# - un nume\n",
    "# - o valoare \n",
    "# - un loc unde e stocata in memorie"
   ]
  },
  {
   "cell_type": "code",
   "execution_count": 20,
   "id": "b78f67ff",
   "metadata": {},
   "outputs": [],
   "source": [
    "my_car = \"Tesla\""
   ]
  },
  {
   "cell_type": "code",
   "execution_count": 21,
   "id": "dde568e1",
   "metadata": {},
   "outputs": [],
   "source": []
  },
  {
   "cell_type": "code",
   "execution_count": 25,
   "id": "f55a44c3",
   "metadata": {},
   "outputs": [],
   "source": [
    "# Conventii generale din programare pt numele variabilelor:\n",
    "# snake_case -> cea mai utilizata conventie in Python (la numele variabilelor, la numele functiilor) \n",
    "my_number = 10\n",
    "\n",
    "# PascalCase -> folosita in general la numele claselor \n",
    "MyNumber = 11\n",
    "\n",
    "# camelCase -> folosita uneori la numele metodelor/functiilor claselor \n",
    "myNumber = 12\n",
    "\n",
    "# kebab-case -> nu merge in Python (incearca sa interpreteze - ca un operator)\n",
    "# my-number = 13\n",
    "\n"
   ]
  },
  {
   "cell_type": "code",
   "execution_count": 26,
   "id": "b5ad37fe",
   "metadata": {},
   "outputs": [
    {
     "name": "stdout",
     "output_type": "stream",
     "text": [
      "11\n"
     ]
    }
   ],
   "source": [
    "print(MyNumber)   # python e case sensitive"
   ]
  },
  {
   "cell_type": "code",
   "execution_count": 27,
   "id": "13621c32",
   "metadata": {},
   "outputs": [
    {
     "data": {
      "text/plain": [
       "False"
      ]
     },
     "execution_count": 27,
     "metadata": {},
     "output_type": "execute_result"
    }
   ],
   "source": [
    "a = 'ceva'\n",
    "A = 'altceva'\n",
    "\n",
    "a == A"
   ]
  },
  {
   "cell_type": "code",
   "execution_count": null,
   "id": "6af74047",
   "metadata": {},
   "outputs": [],
   "source": []
  },
  {
   "cell_type": "code",
   "execution_count": 36,
   "id": "db4e896a",
   "metadata": {},
   "outputs": [],
   "source": [
    "# Conventii Python de naming al variabilelor\n",
    "_var = 100\n",
    "# var*& = 15  # eroare, simbolurile speciale nu pot fi folosit la numele variabilelor, cu exceptia _\n",
    "my_var1 = 1\n",
    "# 2my_var = 11  # numele de variabile nu pot sa incearca cu cifra"
   ]
  },
  {
   "cell_type": "code",
   "execution_count": null,
   "id": "3957766b",
   "metadata": {},
   "outputs": [],
   "source": []
  },
  {
   "cell_type": "code",
   "execution_count": 37,
   "id": "42bdd00b",
   "metadata": {},
   "outputs": [],
   "source": [
    "my_variable = 10\n",
    "my_variable = 'Text'   # merge in Python, fiindca py e tipizat dinamic"
   ]
  },
  {
   "cell_type": "code",
   "execution_count": 38,
   "id": "390f2637",
   "metadata": {},
   "outputs": [
    {
     "name": "stdout",
     "output_type": "stream",
     "text": [
      "Text\n"
     ]
    }
   ],
   "source": [
    "print(my_variable)"
   ]
  },
  {
   "cell_type": "code",
   "execution_count": 39,
   "id": "d6c844b9",
   "metadata": {},
   "outputs": [],
   "source": [
    "# Tipuri de date\n",
    "marca = \"Dacia\"         # str, aka string, (sir de caractere , text)\n",
    "an_fabricatie = 2022   # int, aka integer (numar intreg de la - infinit la + infinit)\n",
    "e_inmatriculata = True  # bool, aka boolean (valoare de adevar adevara sau false)\n",
    "pret = 14999.99         # float (numeri zecimale, cu virgula - la + infi)"
   ]
  },
  {
   "cell_type": "code",
   "execution_count": 40,
   "id": "7b15aac7",
   "metadata": {},
   "outputs": [],
   "source": [
    "x = -5"
   ]
  },
  {
   "cell_type": "code",
   "execution_count": 42,
   "id": "49d76022",
   "metadata": {},
   "outputs": [
    {
     "name": "stdout",
     "output_type": "stream",
     "text": [
      "Dacia\n",
      "<class 'str'>\n"
     ]
    }
   ],
   "source": [
    "# Avem variabila marca, dar nu stim exact ce tip de date are....\n",
    "print(marca)\n",
    "\n",
    "print(type(marca))   # asa verificam tipul de date al unei variabile"
   ]
  },
  {
   "cell_type": "code",
   "execution_count": 43,
   "id": "b5df5d4f",
   "metadata": {},
   "outputs": [
    {
     "name": "stdout",
     "output_type": "stream",
     "text": [
      "<class 'str'>\n"
     ]
    }
   ],
   "source": [
    "x = \"312\"\n",
    "\n",
    "print(type(x))"
   ]
  },
  {
   "cell_type": "code",
   "execution_count": 44,
   "id": "00da6c28",
   "metadata": {},
   "outputs": [
    {
     "name": "stdout",
     "output_type": "stream",
     "text": [
      "<class 'int'>\n"
     ]
    }
   ],
   "source": [
    "# Exista o metoda de a transforma variabila x in tipul de date int:\n",
    "\n",
    "x = int(x)      # type casting\n",
    "print(type(x))"
   ]
  },
  {
   "cell_type": "code",
   "execution_count": 47,
   "id": "f4b3db4a",
   "metadata": {},
   "outputs": [
    {
     "name": "stdout",
     "output_type": "stream",
     "text": [
      "<class 'str'>\n"
     ]
    }
   ],
   "source": [
    "y = 13\n",
    "# Vrem sa il transf pe y in string:\n",
    "\n",
    "y = str(y)\n",
    "print(type(y))"
   ]
  },
  {
   "cell_type": "code",
   "execution_count": 49,
   "id": "aa2049c7",
   "metadata": {},
   "outputs": [
    {
     "name": "stdout",
     "output_type": "stream",
     "text": [
      "312.0\n"
     ]
    }
   ],
   "source": [
    "x = \"312\"\n",
    "\n",
    "# Vreau sa il transform in 312.0 ?\n",
    "x = float(x)\n",
    "print(x)"
   ]
  },
  {
   "cell_type": "code",
   "execution_count": 50,
   "id": "ab61d4d8",
   "metadata": {},
   "outputs": [
    {
     "ename": "ValueError",
     "evalue": "invalid literal for int() with base 10: '312a'",
     "output_type": "error",
     "traceback": [
      "\u001b[1;31m---------------------------------------------------------------------------\u001b[0m",
      "\u001b[1;31mValueError\u001b[0m                                Traceback (most recent call last)",
      "\u001b[1;32m~\\AppData\\Local\\Temp/ipykernel_1236/1381200180.py\u001b[0m in \u001b[0;36m<module>\u001b[1;34m\u001b[0m\n\u001b[0;32m      2\u001b[0m \u001b[1;33m\u001b[0m\u001b[0m\n\u001b[0;32m      3\u001b[0m \u001b[1;31m# Vreau sa il transform in int..\u001b[0m\u001b[1;33m\u001b[0m\u001b[1;33m\u001b[0m\u001b[1;33m\u001b[0m\u001b[0m\n\u001b[1;32m----> 4\u001b[1;33m \u001b[0mx\u001b[0m \u001b[1;33m=\u001b[0m \u001b[0mint\u001b[0m\u001b[1;33m(\u001b[0m\u001b[0mx\u001b[0m\u001b[1;33m)\u001b[0m\u001b[1;33m\u001b[0m\u001b[1;33m\u001b[0m\u001b[0m\n\u001b[0m",
      "\u001b[1;31mValueError\u001b[0m: invalid literal for int() with base 10: '312a'"
     ]
    }
   ],
   "source": [
    "x = \"312a\"\n",
    "\n",
    "# Vreau sa il transform in int..\n",
    "x = int(x)    # eroare, nu poate fi transf in int daca nu e un numar valid"
   ]
  },
  {
   "cell_type": "code",
   "execution_count": 51,
   "id": "da5a0c4d",
   "metadata": {},
   "outputs": [
    {
     "name": "stdout",
     "output_type": "stream",
     "text": [
      "True\n"
     ]
    }
   ],
   "source": [
    "x = 312\n",
    "x = bool(x)\n",
    "\n",
    "# bool returneaza True/False\n",
    "print(x)\n",
    "\n",
    "# type castingul la bool merge cu orice"
   ]
  },
  {
   "cell_type": "code",
   "execution_count": 52,
   "id": "7c6f6dad",
   "metadata": {},
   "outputs": [
    {
     "name": "stdout",
     "output_type": "stream",
     "text": [
      "Da\n"
     ]
    }
   ],
   "source": [
    "x = 312\n",
    "if x:\n",
    "    print(\"Da\")\n",
    "else:\n",
    "    print(\"Nu\")"
   ]
  },
  {
   "cell_type": "code",
   "execution_count": 59,
   "id": "d897b50a",
   "metadata": {},
   "outputs": [
    {
     "name": "stdout",
     "output_type": "stream",
     "text": [
      "False\n"
     ]
    }
   ],
   "source": [
    "x = 0\n",
    "print(bool(x))"
   ]
  },
  {
   "cell_type": "code",
   "execution_count": 62,
   "id": "e8346ca2",
   "metadata": {},
   "outputs": [
    {
     "data": {
      "text/plain": [
       "False"
      ]
     },
     "execution_count": 62,
     "metadata": {},
     "output_type": "execute_result"
    }
   ],
   "source": [
    "s = ''   # empty string\n",
    "bool(s)"
   ]
  },
  {
   "cell_type": "code",
   "execution_count": 63,
   "id": "b74de798",
   "metadata": {},
   "outputs": [],
   "source": [
    "# Pentru orice tip de date, exista o singura valoare pentru care bool() returneaza False, in rest toate celelalte valori returneaza True\n",
    "# pt int, val e 0, pt float 0.0, pt str e \"\", pt list e [],...."
   ]
  },
  {
   "cell_type": "code",
   "execution_count": null,
   "id": "af033ecf",
   "metadata": {},
   "outputs": [],
   "source": []
  },
  {
   "cell_type": "code",
   "execution_count": 71,
   "id": "a4bb1c1b",
   "metadata": {},
   "outputs": [],
   "source": [
    "print?"
   ]
  },
  {
   "cell_type": "code",
   "execution_count": 70,
   "id": "2a646440",
   "metadata": {},
   "outputs": [
    {
     "name": "stdout",
     "output_type": "stream",
     "text": [
      "Hello-World>Hello-Universe\n"
     ]
    }
   ],
   "source": [
    "print(\"Hello\", \"World\", sep='-', end='>')  # \\n inseamna newline aka ENTER\n",
    "print(\"Hello\", \"Universe\", sep='-')"
   ]
  },
  {
   "cell_type": "code",
   "execution_count": 66,
   "id": "72140770",
   "metadata": {},
   "outputs": [
    {
     "data": {
      "text/plain": [
       "str"
      ]
     },
     "execution_count": 66,
     "metadata": {},
     "output_type": "execute_result"
    }
   ],
   "source": []
  },
  {
   "cell_type": "code",
   "execution_count": 75,
   "id": "450bec6b",
   "metadata": {},
   "outputs": [],
   "source": [
    "# Tipuri de date\n",
    "marca = \"Dacia\"         \n",
    "an_fabricatie = 2022   \n",
    "e_inmatriculata = True \n",
    "pret = 14999.99         "
   ]
  },
  {
   "cell_type": "code",
   "execution_count": 76,
   "id": "327a5a31",
   "metadata": {},
   "outputs": [
    {
     "name": "stdout",
     "output_type": "stream",
     "text": [
      "Dacia\n"
     ]
    }
   ],
   "source": [
    "print(marca)"
   ]
  },
  {
   "cell_type": "code",
   "execution_count": 77,
   "id": "88ef62f4",
   "metadata": {},
   "outputs": [
    {
     "name": "stdout",
     "output_type": "stream",
     "text": [
      "14999.99\n"
     ]
    }
   ],
   "source": [
    "print(pret)"
   ]
  },
  {
   "cell_type": "code",
   "execution_count": 78,
   "id": "c621143d",
   "metadata": {},
   "outputs": [
    {
     "ename": "TypeError",
     "evalue": "can only concatenate str (not \"int\") to str",
     "output_type": "error",
     "traceback": [
      "\u001b[1;31m---------------------------------------------------------------------------\u001b[0m",
      "\u001b[1;31mTypeError\u001b[0m                                 Traceback (most recent call last)",
      "\u001b[1;32m~\\AppData\\Local\\Temp/ipykernel_1236/2193097881.py\u001b[0m in \u001b[0;36m<module>\u001b[1;34m\u001b[0m\n\u001b[1;32m----> 1\u001b[1;33m \u001b[0mprint\u001b[0m\u001b[1;33m(\u001b[0m\u001b[0mmarca\u001b[0m\u001b[1;33m+\u001b[0m\u001b[0man_fabricatie\u001b[0m\u001b[1;33m)\u001b[0m\u001b[1;33m\u001b[0m\u001b[1;33m\u001b[0m\u001b[0m\n\u001b[0m",
      "\u001b[1;31mTypeError\u001b[0m: can only concatenate str (not \"int\") to str"
     ]
    }
   ],
   "source": [
    "print(marca+an_fabricatie) "
   ]
  },
  {
   "cell_type": "code",
   "execution_count": 79,
   "id": "fb67fa71",
   "metadata": {},
   "outputs": [
    {
     "name": "stdout",
     "output_type": "stream",
     "text": [
      "Dacia 2022\n"
     ]
    }
   ],
   "source": [
    "print(marca,an_fabricatie) "
   ]
  },
  {
   "cell_type": "code",
   "execution_count": 82,
   "id": "e5722359",
   "metadata": {},
   "outputs": [],
   "source": [
    "model = \"Duster\""
   ]
  },
  {
   "cell_type": "code",
   "execution_count": 83,
   "id": "6f518df4",
   "metadata": {},
   "outputs": [
    {
     "name": "stdout",
     "output_type": "stream",
     "text": [
      "DaciaDuster\n"
     ]
    }
   ],
   "source": [
    "# Vrem sa printam marca si model intr`un singur print:\n",
    "print(marca+model)    # marca si model sunt ambele string-uri, asa ca merge + intre ele (+ inseamna concatenare)"
   ]
  },
  {
   "cell_type": "code",
   "execution_count": 85,
   "id": "6ed2db0b",
   "metadata": {},
   "outputs": [],
   "source": []
  },
  {
   "cell_type": "code",
   "execution_count": 88,
   "id": "e71a818c",
   "metadata": {},
   "outputs": [
    {
     "name": "stdout",
     "output_type": "stream",
     "text": [
      "2032\n"
     ]
    }
   ],
   "source": [
    "an_fabricatie = 2022\n",
    "luna = 10\n",
    "\n",
    "print(an_fabricatie+luna)  # ambele int (numere) asa ca + face suma"
   ]
  },
  {
   "cell_type": "code",
   "execution_count": 91,
   "id": "c25f9fbc",
   "metadata": {},
   "outputs": [
    {
     "name": "stdout",
     "output_type": "stream",
     "text": [
      "202210\n"
     ]
    }
   ],
   "source": [
    "# Daca voiam sa printam 202210, cum putem face?\n",
    "print(str(an_fabricatie) + str(luna))"
   ]
  },
  {
   "cell_type": "code",
   "execution_count": null,
   "id": "9d1eed68",
   "metadata": {},
   "outputs": [],
   "source": []
  },
  {
   "cell_type": "code",
   "execution_count": 96,
   "id": "99959c16",
   "metadata": {},
   "outputs": [
    {
     "name": "stdout",
     "output_type": "stream",
     "text": [
      "Mi-am cumparat masina marcaDaciacare a costat 14999.99\n",
      "Mi-am cumparat masina marca Dacia care a costat 14999.99\n"
     ]
    }
   ],
   "source": [
    "# Vrem sa afisam urmatorul text, inlocuind ... cu variabila potrivita\n",
    "# \"Mi-am cumparat masina marca <marca> care a costat <pret>\"\n",
    "\n",
    "# v1: concatenare (+ intre stringuri)\n",
    "print(\"Mi-am cumparat masina marca \" + marca + \" care a costat \" + str(pret))\n",
    "\n",
    "# v2: f-string: formatare de string-uri\n",
    "print(f\"Mi-am cumparat masina marca {marca} care a costat {pret}\")"
   ]
  },
  {
   "cell_type": "code",
   "execution_count": 98,
   "id": "a7696843",
   "metadata": {},
   "outputs": [
    {
     "name": "stdout",
     "output_type": "stream",
     "text": [
      "Pi are val: 3.146712\n"
     ]
    }
   ],
   "source": [
    "# C01_EX01 (TODO): Cum facem sa afisam valoare lui pi cu doar 2 zecimale?  presupunem pi = 3.146712 "
   ]
  },
  {
   "cell_type": "code",
   "execution_count": null,
   "id": "9cac6b5d",
   "metadata": {},
   "outputs": [],
   "source": []
  },
  {
   "cell_type": "code",
   "execution_count": 99,
   "id": "730d64c4",
   "metadata": {},
   "outputs": [],
   "source": [
    "# input: functie care permite introducerea de input de la tastatura"
   ]
  },
  {
   "cell_type": "code",
   "execution_count": 100,
   "id": "65df7366",
   "metadata": {},
   "outputs": [
    {
     "name": "stdout",
     "output_type": "stream",
     "text": [
      "Give me your input: qwertyu\n",
      "qwertyu\n"
     ]
    }
   ],
   "source": [
    "x = input(\"Give me your input: \")\n",
    "\n",
    "print(x)"
   ]
  },
  {
   "cell_type": "code",
   "execution_count": null,
   "id": "2b0af44e",
   "metadata": {},
   "outputs": [],
   "source": []
  },
  {
   "cell_type": "code",
   "execution_count": 102,
   "id": "240812c8",
   "metadata": {},
   "outputs": [
    {
     "name": "stdout",
     "output_type": "stream",
     "text": [
      "Input a number: 1234\n",
      "<class 'str'>\n"
     ]
    }
   ],
   "source": [
    "nr = input(\"Input a number: \")  # ce introducem de la tastatura prin input() se evalueaza la string!!  \n",
    "\n",
    "print(type(nr))   "
   ]
  },
  {
   "cell_type": "code",
   "execution_count": 106,
   "id": "43bf9cc7",
   "metadata": {},
   "outputs": [
    {
     "name": "stdout",
     "output_type": "stream",
     "text": [
      "Input a number: int(1234)\n",
      "int(1234)\n"
     ]
    }
   ],
   "source": [
    "my_var = input(\"Input a number: \")  \n",
    "\n",
    "\n",
    "print(my_var)"
   ]
  },
  {
   "cell_type": "code",
   "execution_count": 107,
   "id": "413633cd",
   "metadata": {},
   "outputs": [
    {
     "data": {
      "text/plain": [
       "'int(1234)'"
      ]
     },
     "execution_count": 107,
     "metadata": {},
     "output_type": "execute_result"
    }
   ],
   "source": [
    "my_var"
   ]
  },
  {
   "cell_type": "code",
   "execution_count": 117,
   "id": "c2aa5cb9",
   "metadata": {},
   "outputs": [
    {
     "name": "stdout",
     "output_type": "stream",
     "text": [
      "Input a number: 3\n",
      "9\n"
     ]
    }
   ],
   "source": [
    "# Vrem sa primim un integer de la tastatura pe care sa il ridicam la patrat si sa il afisam,\n",
    "# iar in cazul in care se introduce un input care nu e numar valid, sa primim eroare\n",
    "\n",
    "number = input(\"Input a number: \")\n",
    "\n",
    "# print(number^2)  # ^ nu e sintaxa python pentru ridicarea la putere\n",
    "\n",
    "number = int(number)\n",
    "print(number**2)"
   ]
  },
  {
   "cell_type": "code",
   "execution_count": 115,
   "id": "c1c5d975",
   "metadata": {},
   "outputs": [
    {
     "name": "stdout",
     "output_type": "stream",
     "text": [
      "Input a number: 4\n",
      "16\n"
     ]
    }
   ],
   "source": [
    "number = int(input(\"Input a number: \"))\n",
    "print(number**2)"
   ]
  },
  {
   "cell_type": "code",
   "execution_count": null,
   "id": "151727dd",
   "metadata": {},
   "outputs": [],
   "source": []
  },
  {
   "cell_type": "code",
   "execution_count": 118,
   "id": "11f5b405",
   "metadata": {},
   "outputs": [],
   "source": [
    "# string - e un text de unul sau mai multe caractere, este indexat (incapand de la 0)"
   ]
  },
  {
   "cell_type": "code",
   "execution_count": 119,
   "id": "2080d904",
   "metadata": {},
   "outputs": [],
   "source": [
    "my_string = \"Hello Pythonistas\"\n",
    "# idecsi     012345......... -1       "
   ]
  },
  {
   "cell_type": "code",
   "execution_count": 120,
   "id": "8ca71a3f",
   "metadata": {},
   "outputs": [
    {
     "name": "stdout",
     "output_type": "stream",
     "text": [
      "H\n"
     ]
    }
   ],
   "source": [
    "print(my_string[0])"
   ]
  },
  {
   "cell_type": "code",
   "execution_count": 121,
   "id": "775bc839",
   "metadata": {},
   "outputs": [
    {
     "name": "stdout",
     "output_type": "stream",
     "text": [
      " \n"
     ]
    }
   ],
   "source": [
    "print(my_string[5])"
   ]
  },
  {
   "cell_type": "code",
   "execution_count": 123,
   "id": "78e91a2c",
   "metadata": {},
   "outputs": [
    {
     "name": "stdout",
     "output_type": "stream",
     "text": [
      "s\n"
     ]
    }
   ],
   "source": [
    "print(my_string[-1])"
   ]
  },
  {
   "cell_type": "code",
   "execution_count": 124,
   "id": "c3104627",
   "metadata": {},
   "outputs": [
    {
     "name": "stdout",
     "output_type": "stream",
     "text": [
      "a\n"
     ]
    }
   ],
   "source": [
    "print(my_string[-2])"
   ]
  },
  {
   "cell_type": "code",
   "execution_count": 126,
   "id": "b374cc63",
   "metadata": {},
   "outputs": [
    {
     "data": {
      "text/plain": [
       "'hello pythonistas'"
      ]
     },
     "execution_count": 126,
     "metadata": {},
     "output_type": "execute_result"
    }
   ],
   "source": [
    "my_string.lower()"
   ]
  },
  {
   "cell_type": "code",
   "execution_count": 127,
   "id": "3b7b4aec",
   "metadata": {},
   "outputs": [
    {
     "data": {
      "text/plain": [
       "17"
      ]
     },
     "execution_count": 127,
     "metadata": {},
     "output_type": "execute_result"
    }
   ],
   "source": [
    "len(my_string) # len returneaza numarul de caractere al stringului\n",
    "\n",
    "\n",
    "# len poate fi folosit pe orice tip de date care are indexi"
   ]
  },
  {
   "cell_type": "code",
   "execution_count": 135,
   "id": "18cbf6c3",
   "metadata": {},
   "outputs": [
    {
     "name": "stdout",
     "output_type": "stream",
     "text": [
      "Hello Pythonistas\n"
     ]
    }
   ],
   "source": [
    "my_string = \"Hello Pythonistas\"\n",
    "\n",
    "# Vrem ca stringul sa devina \"hello Pythonistas\"\n",
    "# my_string[0] = 'h'  # nu merge, fiindca str e imutabil (nu poate fi modificat)\n",
    "\n"
   ]
  },
  {
   "cell_type": "code",
   "execution_count": 136,
   "id": "d281e1ab",
   "metadata": {},
   "outputs": [],
   "source": [
    "# jupyter notebook-ul e un REPL (read-evaluate-print-loop), cand rulezi o bacata de cod, incearca sa printeze automat"
   ]
  },
  {
   "cell_type": "code",
   "execution_count": 137,
   "id": "cd0dbc6a",
   "metadata": {},
   "outputs": [
    {
     "name": "stdout",
     "output_type": "stream",
     "text": [
      "Hello Pythonistas\n"
     ]
    }
   ],
   "source": [
    "my_string[0].lower()\n",
    "print(my_string)   # chiar daca am incercat sa transform in lower pe primu caracter, stringul in sine a ramas nemodificat"
   ]
  },
  {
   "cell_type": "code",
   "execution_count": 139,
   "id": "3d744560",
   "metadata": {},
   "outputs": [
    {
     "name": "stdout",
     "output_type": "stream",
     "text": [
      "hello Pythonistas\n"
     ]
    }
   ],
   "source": [
    "# cum as putea sa il chiar modific??.... doar prin re-asignare\n",
    "\n",
    "my_string = \"Hello Pythonistas\"\n",
    "my_string = my_string[0].lower() + my_string[1:]  # slicing\n",
    "\n",
    "print(my_string)"
   ]
  },
  {
   "cell_type": "code",
   "execution_count": 140,
   "id": "d2dd571c",
   "metadata": {},
   "outputs": [
    {
     "name": "stdout",
     "output_type": "stream",
     "text": [
      "Hello\n"
     ]
    }
   ],
   "source": [
    "my_string = \"Hello Pythonistas\"\n",
    "# indecsi    012345678\n",
    "\n",
    "# slicing\n",
    "\n",
    "\n",
    "# vrem sa printam primele 5 caractere din my_string\n",
    "print(my_string[0:5])\n",
    "    \n",
    "# sintaxa slice:\n",
    "# my_string[index_start:index_stop:step] - unde index_start reprezinta indexul de inceput al slice-ului, index_stop reprezinta\n",
    "# indexul de oprire (dar nu include indexul in sine), iar step reprezinta pasul cu care sare peste elemente"
   ]
  },
  {
   "cell_type": "code",
   "execution_count": 141,
   "id": "c8360b1b",
   "metadata": {},
   "outputs": [
    {
     "name": "stdout",
     "output_type": "stream",
     "text": [
      "Hello P\n"
     ]
    }
   ],
   "source": [
    "print(my_string[0:7])"
   ]
  },
  {
   "cell_type": "code",
   "execution_count": 142,
   "id": "4f00d246",
   "metadata": {},
   "outputs": [
    {
     "name": "stdout",
     "output_type": "stream",
     "text": [
      "HloP\n"
     ]
    }
   ],
   "source": [
    "print(my_string[0:8:2])"
   ]
  },
  {
   "cell_type": "code",
   "execution_count": 144,
   "id": "26825869",
   "metadata": {},
   "outputs": [
    {
     "name": "stdout",
     "output_type": "stream",
     "text": [
      "Hello\n",
      "Hello\n"
     ]
    }
   ],
   "source": [
    "print(my_string[0:5])\n",
    "\n",
    "# alternativa\n",
    "print(my_string[:5])"
   ]
  },
  {
   "cell_type": "code",
   "execution_count": 145,
   "id": "613731ee",
   "metadata": {},
   "outputs": [
    {
     "name": "stdout",
     "output_type": "stream",
     "text": [
      "stas\n"
     ]
    }
   ],
   "source": [
    "# Vrem sa afisam ultimele 4 caractere?\n",
    "my_string = \"Hello Pythonistas\"\n",
    "\n",
    "print(my_string[-4:])\n"
   ]
  },
  {
   "cell_type": "code",
   "execution_count": 146,
   "id": "e3a76c98",
   "metadata": {},
   "outputs": [
    {
     "name": "stdout",
     "output_type": "stream",
     "text": [
      "Python\n"
     ]
    }
   ],
   "source": [
    "# Daca vrem sa afisam stringul Python?\n",
    "print(my_string[6:12])"
   ]
  },
  {
   "cell_type": "code",
   "execution_count": 150,
   "id": "581506b3",
   "metadata": {},
   "outputs": [
    {
     "name": "stdout",
     "output_type": "stream",
     "text": [
      "sat\n"
     ]
    }
   ],
   "source": [
    "# Daca vrem sa afisam ultimele 3 in ordine inversa: \"sat\"\n",
    "print(my_string[:-4:-1])"
   ]
  },
  {
   "cell_type": "code",
   "execution_count": 151,
   "id": "f5d00d6f",
   "metadata": {},
   "outputs": [],
   "source": [
    "# C01_EX02 (TODO Homework): Avand my_string = \"Hello Pythonistas\" , vrem sa afisam stringul: \"eoyoss\""
   ]
  },
  {
   "cell_type": "code",
   "execution_count": null,
   "id": "f646f068",
   "metadata": {},
   "outputs": [],
   "source": []
  },
  {
   "cell_type": "code",
   "execution_count": 166,
   "id": "a627e550",
   "metadata": {},
   "outputs": [
    {
     "name": "stdout",
     "output_type": "stream",
     "text": [
      "Hello Pythonistas\n",
      "Hell0 Pyth0nistas\n"
     ]
    }
   ],
   "source": [
    "# Daca vrem sa inlocuim toate caracterele 'o cu '0':\n",
    "my_string = \"Hello Pythonistas\"\n",
    "\n",
    "my_string.replace('o', '0')\n",
    "\n",
    "print(my_string)   # nu l-am reasignat\n",
    "\n",
    "my_string = my_string.replace('o', '0')\n",
    "print(my_string)"
   ]
  },
  {
   "cell_type": "code",
   "execution_count": 167,
   "id": "af553680",
   "metadata": {},
   "outputs": [],
   "source": [
    "# str e imutabil, adica odata creat, nu poate fi modificat!!"
   ]
  },
  {
   "cell_type": "code",
   "execution_count": null,
   "id": "da59b0e5",
   "metadata": {},
   "outputs": [],
   "source": []
  },
  {
   "cell_type": "code",
   "execution_count": 170,
   "id": "d5b29ac0",
   "metadata": {},
   "outputs": [
    {
     "data": {
      "text/plain": [
       "6"
      ]
     },
     "execution_count": 170,
     "metadata": {},
     "output_type": "execute_result"
    }
   ],
   "source": [
    "my_string = \"Hello Pythonistas\"\n",
    "#            0123456789.......\n",
    "\n",
    "# Vrem sa aflam pozitia/indexul caracterului 'P'\n",
    "my_string.find(\"P\")"
   ]
  },
  {
   "cell_type": "code",
   "execution_count": 171,
   "id": "738a68ef",
   "metadata": {},
   "outputs": [
    {
     "data": {
      "text/plain": [
       "4"
      ]
     },
     "execution_count": 171,
     "metadata": {},
     "output_type": "execute_result"
    }
   ],
   "source": [
    "my_string.find(\"o\")"
   ]
  },
  {
   "cell_type": "code",
   "execution_count": 173,
   "id": "1e01e336",
   "metadata": {},
   "outputs": [
    {
     "data": {
      "text/plain": [
       "4"
      ]
     },
     "execution_count": 173,
     "metadata": {},
     "output_type": "execute_result"
    }
   ],
   "source": [
    "my_string.index(\"o\")"
   ]
  },
  {
   "cell_type": "code",
   "execution_count": 175,
   "id": "37dee4d7",
   "metadata": {},
   "outputs": [
    {
     "data": {
      "text/plain": [
       "0"
      ]
     },
     "execution_count": 175,
     "metadata": {},
     "output_type": "execute_result"
    }
   ],
   "source": [
    "my_string.index(\"H\")"
   ]
  },
  {
   "cell_type": "code",
   "execution_count": 176,
   "id": "abc49091",
   "metadata": {},
   "outputs": [
    {
     "ename": "ValueError",
     "evalue": "substring not found",
     "output_type": "error",
     "traceback": [
      "\u001b[1;31m---------------------------------------------------------------------------\u001b[0m",
      "\u001b[1;31mValueError\u001b[0m                                Traceback (most recent call last)",
      "\u001b[1;32m~\\AppData\\Local\\Temp/ipykernel_1236/365735192.py\u001b[0m in \u001b[0;36m<module>\u001b[1;34m\u001b[0m\n\u001b[1;32m----> 1\u001b[1;33m \u001b[0mmy_string\u001b[0m\u001b[1;33m.\u001b[0m\u001b[0mindex\u001b[0m\u001b[1;33m(\u001b[0m\u001b[1;34m\"z\"\u001b[0m\u001b[1;33m)\u001b[0m\u001b[1;33m\u001b[0m\u001b[1;33m\u001b[0m\u001b[0m\n\u001b[0m",
      "\u001b[1;31mValueError\u001b[0m: substring not found"
     ]
    }
   ],
   "source": [
    "my_string.index(\"z\")"
   ]
  },
  {
   "cell_type": "code",
   "execution_count": 177,
   "id": "a7ab1e2d",
   "metadata": {},
   "outputs": [
    {
     "data": {
      "text/plain": [
       "-1"
      ]
     },
     "execution_count": 177,
     "metadata": {},
     "output_type": "execute_result"
    }
   ],
   "source": [
    "my_string.find(\"z\")"
   ]
  },
  {
   "cell_type": "code",
   "execution_count": 178,
   "id": "9d6a3344",
   "metadata": {},
   "outputs": [
    {
     "data": {
      "text/plain": [
       "2"
      ]
     },
     "execution_count": 178,
     "metadata": {},
     "output_type": "execute_result"
    }
   ],
   "source": [
    "my_string.count(\"o\")"
   ]
  },
  {
   "cell_type": "code",
   "execution_count": 179,
   "id": "ffbe7760",
   "metadata": {},
   "outputs": [
    {
     "data": {
      "text/plain": [
       "0"
      ]
     },
     "execution_count": 179,
     "metadata": {},
     "output_type": "execute_result"
    }
   ],
   "source": [
    "my_string.count(\"z\")"
   ]
  },
  {
   "cell_type": "code",
   "execution_count": 184,
   "id": "8b68008f",
   "metadata": {},
   "outputs": [
    {
     "data": {
      "text/plain": [
       "False"
      ]
     },
     "execution_count": 184,
     "metadata": {},
     "output_type": "execute_result"
    }
   ],
   "source": [
    "my_string = \"Hello Pythonistas\"\n",
    "\n",
    "my_string.isalpha()  # isalpha returneaza True daca stringul contine doar litere (isalphabetical)"
   ]
  },
  {
   "cell_type": "code",
   "execution_count": 185,
   "id": "a192d993",
   "metadata": {},
   "outputs": [
    {
     "data": {
      "text/plain": [
       "True"
      ]
     },
     "execution_count": 185,
     "metadata": {},
     "output_type": "execute_result"
    }
   ],
   "source": [
    "my_string = \"HelloPythonistas\"\n",
    "\n",
    "my_string.isalpha()"
   ]
  },
  {
   "cell_type": "code",
   "execution_count": 187,
   "id": "d738bb73",
   "metadata": {},
   "outputs": [
    {
     "data": {
      "text/plain": [
       "False"
      ]
     },
     "execution_count": 187,
     "metadata": {},
     "output_type": "execute_result"
    }
   ],
   "source": [
    "my_string = 'Hi123'\n",
    "my_string.isalnum()"
   ]
  },
  {
   "cell_type": "code",
   "execution_count": 188,
   "id": "a8cd0b4a",
   "metadata": {},
   "outputs": [
    {
     "data": {
      "text/plain": [
       "False"
      ]
     },
     "execution_count": 188,
     "metadata": {},
     "output_type": "execute_result"
    }
   ],
   "source": [
    "my_string = 'Hi123!?'\n",
    "my_string.isalnum()"
   ]
  },
  {
   "cell_type": "code",
   "execution_count": null,
   "id": "0466c42d",
   "metadata": {},
   "outputs": [],
   "source": []
  },
  {
   "cell_type": "code",
   "execution_count": null,
   "id": "3e5b6bab",
   "metadata": {},
   "outputs": [],
   "source": []
  }
 ],
 "metadata": {
  "kernelspec": {
   "display_name": "Python 3 (ipykernel)",
   "language": "python",
   "name": "python3"
  },
  "language_info": {
   "codemirror_mode": {
    "name": "ipython",
    "version": 3
   },
   "file_extension": ".py",
   "mimetype": "text/x-python",
   "name": "python",
   "nbconvert_exporter": "python",
   "pygments_lexer": "ipython3",
   "version": "3.10.6"
  }
 },
 "nbformat": 4,
 "nbformat_minor": 5
}
